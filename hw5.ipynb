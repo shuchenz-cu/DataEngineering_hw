{
 "cells": [
  {
   "cell_type": "code",
   "execution_count": null,
   "metadata": {},
   "outputs": [],
   "source": [
    "# Here's the Swagger UI documentation of an API service called Diction- a collection of inspiring quotes from famous authors.: https://api.fisenko.net/swagger-ui/\n",
    "# Students are required to go through the documentation, and create a jupyter notebook that makes  REST API calls to this service to:\n",
    "# Get the number of languages supported. Note that you'll need the language id for making other API calls.\n",
    "# Randomly generate a quote, and store the retrieved information in a csv/ db table.\n",
    "# Fetch the list of authors in each language and persist the results.\n",
    "# For a specific author, get the corresponding author id from the previous result, and fetch the famous quotes by the same author. Persist the results.\n",
    "# Provide a feature to like a quote. Use the Post API call for this.\n",
    "#  Allow users to submit quotes. \n",
    "# Get the total number of quotes and authors in each language"
   ]
  },
  {
   "cell_type": "code",
   "execution_count": 1,
   "metadata": {},
   "outputs": [],
   "source": [
    "import requests\n",
    "import json\n",
    "import pandas as pd"
   ]
  },
  {
   "cell_type": "code",
   "execution_count": 2,
   "metadata": {},
   "outputs": [
    {
     "name": "stdout",
     "output_type": "stream",
     "text": [
      "  code language\n",
      "0   ru  Русский\n",
      "1   en  English\n"
     ]
    }
   ],
   "source": [
    "BASE_URL = \"https://api.fisenko.net/v1\"\n",
    "\n",
    "\n",
    "def get_languages():\n",
    "    response = requests.get(f\"{BASE_URL}/languages\")\n",
    "    languages = response.json()\n",
    "    return pd.DataFrame(languages)\n",
    "\n",
    "languages_df = get_languages()\n",
    "print(languages_df)\n"
   ]
  },
  {
   "cell_type": "code",
   "execution_count": 3,
   "metadata": {},
   "outputs": [
    {
     "data": {
      "text/html": [
       "<div>\n",
       "<style scoped>\n",
       "    .dataframe tbody tr th:only-of-type {\n",
       "        vertical-align: middle;\n",
       "    }\n",
       "\n",
       "    .dataframe tbody tr th {\n",
       "        vertical-align: top;\n",
       "    }\n",
       "\n",
       "    .dataframe thead th {\n",
       "        text-align: right;\n",
       "    }\n",
       "</style>\n",
       "<table border=\"1\" class=\"dataframe\">\n",
       "  <thead>\n",
       "    <tr style=\"text-align: right;\">\n",
       "      <th></th>\n",
       "      <th>id</th>\n",
       "      <th>text</th>\n",
       "      <th>author</th>\n",
       "    </tr>\n",
       "  </thead>\n",
       "  <tbody>\n",
       "    <tr>\n",
       "      <th>0</th>\n",
       "      <td>6153bbb59e8e5ae3eb2429a6</td>\n",
       "      <td>My faith helps me overcome such negative emoti...</td>\n",
       "      <td>{'id': '6153b7d49e8e5ae3eb22fd1e', 'name': 'Da...</td>\n",
       "    </tr>\n",
       "  </tbody>\n",
       "</table>\n",
       "</div>"
      ],
      "text/plain": [
       "                         id  \\\n",
       "0  6153bbb59e8e5ae3eb2429a6   \n",
       "\n",
       "                                                text  \\\n",
       "0  My faith helps me overcome such negative emoti...   \n",
       "\n",
       "                                              author  \n",
       "0  {'id': '6153b7d49e8e5ae3eb22fd1e', 'name': 'Da...  "
      ]
     },
     "execution_count": 3,
     "metadata": {},
     "output_type": "execute_result"
    }
   ],
   "source": [
    "def get_random_quote(language_id):\n",
    "    response = requests.get(f\"{BASE_URL}/quotes/{language_id}/random\")\n",
    "    quote_data = response.json()\n",
    "    return quote_data\n",
    "\n",
    "# Fetch a random quote for English\n",
    "random_quote = get_random_quote(\"en\")\n",
    "\n",
    "quote_df = pd.DataFrame([random_quote])\n",
    "quote_df.to_csv(\"random_quote.csv\", index=False)\n",
    "quote_df"
   ]
  },
  {
   "cell_type": "code",
   "execution_count": 4,
   "metadata": {},
   "outputs": [
    {
     "data": {
      "text/plain": [
       "{'ru': [{'id': '6153b7d49e8e5ae3eb22fcbf', 'name': 'Aл-Алави'},\n",
       "  {'id': '6153b7d49e8e5ae3eb22fd1a', 'name': 'Cтефан Цвейг'},\n",
       "  {'id': '6153b7d49e8e5ae3eb22fe95', 'name': 'O. Бальзак'},\n",
       "  {'id': '61f7f666a4755409f15f1dc9', 'name': 'Traf'},\n",
       "  {'id': '6153b7d49e8e5ae3eb22ff5f', 'name': '«В погоне за счастьем»'},\n",
       "  {'id': '6153b7d49e8e5ae3eb22ff60', 'name': '«Метод Хитча»'},\n",
       "  {'id': '6153b7d49e8e5ae3eb22ff61', 'name': '«Терминатор 2»'},\n",
       "  {'id': '6153b7d49e8e5ae3eb22ff62', 'name': '«Человек-Паук 3»'},\n",
       "  {'id': '6153b7d49e8e5ae3eb22ff63', 'name': 'А и Б.Стругацкие'},\n",
       "  {'id': '6153b7d49e8e5ae3eb22ff64', 'name': 'А. Азольский'},\n",
       "  {'id': '6153b7d49e8e5ae3eb22ff65', 'name': 'А. Бергсон'},\n",
       "  {'id': '6153b7d49e8e5ae3eb22ff66', 'name': 'А. Геров'},\n",
       "  {'id': '6153b7d49e8e5ae3eb22ff67', 'name': 'А. Грамши'},\n",
       "  {'id': '6153b7d49e8e5ae3eb22ff68', 'name': 'А. Граф'},\n",
       "  {'id': '6153b7d49e8e5ae3eb22ff69', 'name': 'А. Додэ'},\n",
       "  {'id': '6153b7d49e8e5ae3eb22ff6a', 'name': 'А. Дюма'},\n",
       "  {'id': '6153b7d49e8e5ae3eb22ff6d', 'name': 'А. Книгге'},\n",
       "  {'id': '6153b7d49e8e5ae3eb22ff6e', 'name': 'А. Мандзони'},\n",
       "  {'id': '6153b7d49e8e5ae3eb22ff6f', 'name': 'А. Навои'},\n",
       "  {'id': '6153b7d49e8e5ae3eb22ff70', 'name': 'А. Олкотт'},\n",
       "  {'id': '6153b7d49e8e5ae3eb22ff71', 'name': 'А. Пуанкаре'},\n",
       "  {'id': '6153b7d49e8e5ae3eb22ff72', 'name': 'А. Ривароль'},\n",
       "  {'id': '6153b7d49e8e5ae3eb22ff73', 'name': 'А. Рыбаков'},\n",
       "  {'id': '6153b7d49e8e5ae3eb22ff74', 'name': 'А. Сталь'},\n",
       "  {'id': '6153b7d49e8e5ae3eb22ff75', 'name': 'А. Токвиль'},\n",
       "  {'id': '6153b7d49e8e5ae3eb22ff76', 'name': 'А. Тюрго'},\n",
       "  {'id': '6153b7d49e8e5ae3eb22ff77', 'name': 'А. Франс'},\n",
       "  {'id': '6153b7d49e8e5ae3eb22ff78', 'name': 'А. Шефтсбери'},\n",
       "  {'id': '6153b7d49e8e5ae3eb22ff6b', 'name': 'А. и Б. Стругацкие'},\n",
       "  {'id': '6153b7d49e8e5ae3eb22ff79', 'name': 'А.А.Любищев'},\n",
       "  {'id': '6153b7d49e8e5ae3eb22ff7a', 'name': 'А.Бергсон'},\n",
       "  {'id': '6153b7d49e8e5ae3eb22ff7b', 'name': 'А.Грамши'},\n",
       "  {'id': '6153b7d49e8e5ae3eb22ff7c', 'name': 'А.Данте'},\n",
       "  {'id': '6153b7d49e8e5ae3eb22ff7d', 'name': 'А.Додэ'},\n",
       "  {'id': '6153b7d49e8e5ae3eb22ff7e', 'name': 'А.И. Герцен'},\n",
       "  {'id': '6153b7d49e8e5ae3eb22ff7f', 'name': 'А.И.Герцен'},\n",
       "  {'id': '6153b7d49e8e5ae3eb22ff80', 'name': 'А.М. Горький'},\n",
       "  {'id': '6153b7d49e8e5ae3eb22ff81', 'name': 'А.Н.Леонтьев'},\n",
       "  {'id': '6153b7d49e8e5ae3eb22ff82', 'name': 'А.Олкот'},\n",
       "  {'id': '6153b7d49e8e5ae3eb22ff83', 'name': 'А.П.Чехов'},\n",
       "  {'id': '6153b7d49e8e5ae3eb22ff84', 'name': 'А.Ривароль'},\n",
       "  {'id': '6153b7d49e8e5ae3eb22ff85', 'name': 'А.С.Макаренко'},\n",
       "  {'id': '6153b7d49e8e5ae3eb22ff86', 'name': 'А.С.Пушкин'},\n",
       "  {'id': '6153b7d49e8e5ae3eb22ff87', 'name': 'А.Смит'},\n",
       "  {'id': '6153b7d49e8e5ae3eb22ff88', 'name': 'А.Франс'},\n",
       "  {'id': '6153b7d49e8e5ae3eb22ff89', 'name': 'А.Шефтсбери'},\n",
       "  {'id': '6153b7d49e8e5ae3eb22ff8a', 'name': 'Абай'},\n",
       "  {'id': '6153b7d79e8e5ae3eb2379fb', 'name': 'Абай Кунанбаев'},\n",
       "  {'id': '6153b7d49e8e5ae3eb22ff8b', 'name': 'Абд ал-Халик Гидждувани'},\n",
       "  {'id': '6153b7d79e8e5ae3eb2379fc', 'name': 'Абдуррахман Джами'}],\n",
       " 'en': [{'id': '6153b7d79e8e5ae3eb23734b'},\n",
       "  {'id': '6153b7d79e8e5ae3eb237356', 'name': ' Byron Pulsifer'},\n",
       "  {'id': '6153b7d79e8e5ae3eb23735a', 'name': ' Frank Crane'},\n",
       "  {'id': '6153b7d79e8e5ae3eb23735c', 'name': ' Leo Aikman '},\n",
       "  {'id': '6153b7d79e8e5ae3eb237353', 'name': ' Michael Vance'},\n",
       "  {'id': '6153b7d79e8e5ae3eb237352', 'name': ' Wayne Dyer '},\n",
       "  {'id': '6153b7d79e8e5ae3eb23734f', 'name': ' William Penn'},\n",
       "  {'id': '6153b7d79e8e5ae3eb23735b', 'name': ' Ziggy'},\n",
       "  {'id': '6153b7d49e8e5ae3eb23066a', 'name': '21 Savage'},\n",
       "  {'id': '6153b7d79e8e5ae3eb237849', 'name': '24kGoldn'},\n",
       "  {'id': '6153b7d69e8e5ae3eb2356b4', 'name': '6lack'},\n",
       "  {'id': '6153b7d69e8e5ae3eb23460f', 'name': 'A Boogie wit da Hoodie'},\n",
       "  {'id': '6153b7d79e8e5ae3eb2374b4', 'name': \"A'Lelia Bundles\"},\n",
       "  {'id': '6153b7d79e8e5ae3eb2373a9', 'name': 'A. A. Gill'},\n",
       "  {'id': '6153b7d49e8e5ae3eb22fc80', 'name': 'A. A. Milne'},\n",
       "  {'id': '6153b7d59e8e5ae3eb231a7a', 'name': 'A. B. Yehoshua'},\n",
       "  {'id': '6153b7d69e8e5ae3eb2344a8', 'name': 'A. Balasubramaniam'},\n",
       "  {'id': '6153b7d59e8e5ae3eb231d49', 'name': 'A. Bartlett Giamatti'},\n",
       "  {'id': '6153b7d59e8e5ae3eb231d27', 'name': 'A. C. Benson'},\n",
       "  {'id': '6153b7d69e8e5ae3eb23438d', 'name': 'A. E. Hotchner'},\n",
       "  {'id': '6153b7d59e8e5ae3eb232a5b', 'name': 'A. E. Housman'},\n",
       "  {'id': '6153b7d69e8e5ae3eb235152', 'name': 'A. E. Waite'},\n",
       "  {'id': '6153b7d49e8e5ae3eb2314b0', 'name': 'A. E. van Vogt'},\n",
       "  {'id': '6153b7d59e8e5ae3eb2324e0', 'name': 'A. J. Bowen'},\n",
       "  {'id': '6153b7d69e8e5ae3eb235802', 'name': 'A. J. Buckley'},\n",
       "  {'id': '6153b7d59e8e5ae3eb233e83', 'name': 'A. J. Cook'},\n",
       "  {'id': '6153b7d59e8e5ae3eb231bdb', 'name': 'A. J. Foyt'},\n",
       "  {'id': '6153b7d79e8e5ae3eb237943', 'name': 'A. J. Green'},\n",
       "  {'id': '6153b7d59e8e5ae3eb232e44', 'name': 'A. J. Jacobs'},\n",
       "  {'id': '6153b7d69e8e5ae3eb2350d6', 'name': 'A. J. Langer'},\n",
       "  {'id': '6153b7d49e8e5ae3eb2313cc', 'name': 'A. J. Liebling'},\n",
       "  {'id': '6153b7d49e8e5ae3eb230f10', 'name': 'A. J. McLean'},\n",
       "  {'id': '6153b7d69e8e5ae3eb234b78', 'name': 'A. J. Muste'},\n",
       "  {'id': '6153b7d59e8e5ae3eb232be4', 'name': 'A. J. P. Taylor'},\n",
       "  {'id': '6153b7d79e8e5ae3eb23763c', 'name': 'A. J. Pritchard'},\n",
       "  {'id': '6153b7d69e8e5ae3eb236132', 'name': 'A. James Clark'},\n",
       "  {'id': '6153b7d69e8e5ae3eb235b64', 'name': 'A. K. Antony'},\n",
       "  {'id': '6153b7d49e8e5ae3eb2312ba', 'name': 'A. N. Wilson'},\n",
       "  {'id': '6153b7d49e8e5ae3eb2316cb', 'name': 'A. P. Herbert'},\n",
       "  {'id': '6153b7d49e8e5ae3eb2308a2', 'name': 'A. P. J. Abdul Kalam'},\n",
       "  {'id': '6153b7d79e8e5ae3eb236f55', 'name': 'A. P. Martinich'},\n",
       "  {'id': '6153b7d59e8e5ae3eb2318c0', 'name': 'A. Philip Randolph'},\n",
       "  {'id': '6153b7d49e8e5ae3eb22fc81', 'name': 'A. Powell Davies'},\n",
       "  {'id': '6153b7d59e8e5ae3eb23238d', 'name': 'A. R. Ammons'},\n",
       "  {'id': '6153b7d49e8e5ae3eb230f59', 'name': 'A. R. Rahman'},\n",
       "  {'id': '6153b7d59e8e5ae3eb231df9', 'name': 'A. S. Byatt'},\n",
       "  {'id': '6153b7d69e8e5ae3eb2343bc', 'name': 'A. Scott Berg'},\n",
       "  {'id': '6153b7d59e8e5ae3eb23295f', 'name': 'A. Whitney Brown'},\n",
       "  {'id': '6153b7d49e8e5ae3eb2306a3', 'name': 'A.J. Styles'},\n",
       "  {'id': '6153b7d79e8e5ae3eb2370bd', 'name': 'AB de Villiers'}]}"
      ]
     },
     "execution_count": 4,
     "metadata": {},
     "output_type": "execute_result"
    }
   ],
   "source": [
    "def get_authors_by_language(language_id):\n",
    "    response = requests.get(f\"{BASE_URL}/authors/{language_id}\")\n",
    "    quote_data = response.json()\n",
    "    return quote_data\n",
    "\n",
    "authors_list = {}\n",
    "for lang in languages_df['code']:\n",
    "    authors_list[lang] = get_authors_by_language(lang)\n",
    "authors_list"
   ]
  },
  {
   "cell_type": "code",
   "execution_count": 5,
   "metadata": {},
   "outputs": [
    {
     "name": "stdout",
     "output_type": "stream",
     "text": [
      "6153b7d49e8e5ae3eb2306a3 en\n"
     ]
    }
   ],
   "source": [
    "author_name = 'A.J. Styles'\n",
    "\n",
    "author_id = None\n",
    "author_language = None\n",
    "for lang in authors_list.keys():\n",
    "    for item in authors_list[lang]:\n",
    "        if 'name' in item.keys() and item['name'] == author_name:\n",
    "            author_id = item['id']\n",
    "            author_language = lang\n",
    "print(author_id, author_language)"
   ]
  },
  {
   "cell_type": "code",
   "execution_count": 6,
   "metadata": {},
   "outputs": [
    {
     "data": {
      "text/plain": [
       "[{'id': '6153bbb29e8e5ae3eb23a4f4',\n",
       "  'text': \"You just remember back when you were watching as a kid and going, 'Man, Sting's so cool,' and now I'm wrestling the guy. It's breathtaking.\",\n",
       "  'author': {'id': '6153b7d49e8e5ae3eb2306a3', 'name': 'A.J. Styles'}},\n",
       " {'id': '6153bbb49e8e5ae3eb23f458',\n",
       "  'text': \"At my house, it's an, 'If dad says it, you can say it' kind of deal, so a lot of my slang words come off very childish at this point in my career.\",\n",
       "  'author': {'id': '6153b7d49e8e5ae3eb2306a3', 'name': 'A.J. Styles'}},\n",
       " {'id': '6153bbb79e8e5ae3eb24974a',\n",
       "  'text': \"I want to be known as A.J. Styles, the WWE Superstar that he is, and have amazing matches, make memories - I think that's the goal.\",\n",
       "  'author': {'id': '6153b7d49e8e5ae3eb2306a3', 'name': 'A.J. Styles'}},\n",
       " {'id': '6153bbb89e8e5ae3eb24c8a9',\n",
       "  'text': \"I've never really felt like a veteran. I've never felt like the guy who's like, 'OK, everyone needs to look up to me and respect me.' I've always just been one of the guys that people are excited to get in the ring with. That's all I want.\",\n",
       "  'author': {'id': '6153b7d49e8e5ae3eb2306a3', 'name': 'A.J. Styles'}},\n",
       " {'id': '6153bbb99e8e5ae3eb24f209',\n",
       "  'text': \"I would love to tell you that it's been absolutely perfect, that I've been a man that's been super Christian. But I've had mistakes, dumb things I've regretted, so it's not a perfect life. But it's one that has helped me make better decisions.\",\n",
       "  'author': {'id': '6153b7d49e8e5ae3eb2306a3', 'name': 'A.J. Styles'}},\n",
       " {'id': '6153bbb99e8e5ae3eb25171a',\n",
       "  'text': \"There's a lot of goals I've set in the WWE that I want to accomplish. I'm always setting goals for myself, and someday I want to be in the Hall of Fame.\",\n",
       "  'author': {'id': '6153b7d49e8e5ae3eb2306a3', 'name': 'A.J. Styles'}},\n",
       " {'id': '6153bbb99e8e5ae3eb25192d',\n",
       "  'text': \"Everybody either hates or loves John Cena; there's no medium. I feel like that I've accomplished something when I get people to cheer for John Cena. I feel like I've done something.\",\n",
       "  'author': {'id': '6153b7d49e8e5ae3eb2306a3', 'name': 'A.J. Styles'}},\n",
       " {'id': '6153bbbb9e8e5ae3eb256d59',\n",
       "  'text': \"I've been a video game guy since I was eight years old and got my first Nintendo. I've been addicted to video games ever since.\",\n",
       "  'author': {'id': '6153b7d49e8e5ae3eb2306a3', 'name': 'A.J. Styles'}},\n",
       " {'id': '6153bbbf9e8e5ae3eb262a5c',\n",
       "  'text': \"I hope to have more than one main weapon. I have the Phenomenal Forearm as we're calling it now, the Calf Crusher - the Styles Clash is still available. I like to have a lot of alternative moves to hit people with, and whatever seems to work is what I'll go with.\",\n",
       "  'author': {'id': '6153b7d49e8e5ae3eb2306a3', 'name': 'A.J. Styles'}},\n",
       " {'id': '6153bbbf9e8e5ae3eb262db6',\n",
       "  'text': 'Although I am a Christian, I am not even close to perfect.',\n",
       "  'author': {'id': '6153b7d49e8e5ae3eb2306a3', 'name': 'A.J. Styles'}},\n",
       " {'id': '6153bbc19e8e5ae3eb2693a5',\n",
       "  'text': \"You just can't compare the WWE to anything else when it comes to sports entertainment. There is nothing like the WWE, nothing like this machine I am working for and I'm proud to work for.\",\n",
       "  'author': {'id': '6153b7d49e8e5ae3eb2306a3', 'name': 'A.J. Styles'}},\n",
       " {'id': '6153bbc99e8e5ae3eb281ca2',\n",
       "  'text': 'I went to church when I was younger, but it was never something pushed down my throat or anything, which is a good thing. I found out for myself where I belonged.',\n",
       "  'author': {'id': '6153b7d49e8e5ae3eb2306a3', 'name': 'A.J. Styles'}},\n",
       " {'id': '6153bbc99e8e5ae3eb281f4e',\n",
       "  'text': \"There's plenty of people who've never gotten the opportunity to wrestle at WrestleMania. To perform there and do that, I never thought it would ever happen. I had learned to live with it. So to say I did, that is a big notch in my belt.\",\n",
       "  'author': {'id': '6153b7d49e8e5ae3eb2306a3', 'name': 'A.J. Styles'}},\n",
       " {'id': '6153bbca9e8e5ae3eb284bc3',\n",
       "  'text': \"I busted my tail for so long, I'm just glad it's getting recognized now as part of the WWE. Because let's face it, the WWE is the biggest company out there when it comes to wrestling. I'm just happy that I'm being recognized as somebody who works hard, I guess.\",\n",
       "  'author': {'id': '6153b7d49e8e5ae3eb2306a3', 'name': 'A.J. Styles'}},\n",
       " {'id': '6153bbcc9e8e5ae3eb289212',\n",
       "  'text': \"Sometimes I feel like if I'm not getting people to boo me, then I'm not doing my job right.\",\n",
       "  'author': {'id': '6153b7d49e8e5ae3eb2306a3', 'name': 'A.J. Styles'}},\n",
       " {'id': '6153bbce9e8e5ae3eb28f19e',\n",
       "  'text': \"If we're talking about guys who set the tone, you've got to go way back. But if we're talking about guys who made it possible for guys like A.J. Styles, Shawn Michaels kind of opened that door, along with Daniel Bryan.\",\n",
       "  'author': {'id': '6153b7d49e8e5ae3eb2306a3', 'name': 'A.J. Styles'}},\n",
       " {'id': '6153bbce9e8e5ae3eb291014',\n",
       "  'text': \"Do I think Vince McMahon was looking at my matches in Japan going, 'We need him?' No. He wasn't. He's too busy. There's no way. But somebody may have been looking and going, 'All right, I like this guy. Let's give him a shot.'\",\n",
       "  'author': {'id': '6153b7d49e8e5ae3eb2306a3', 'name': 'A.J. Styles'}},\n",
       " {'id': '6153bbce9e8e5ae3eb2912b4',\n",
       "  'text': \"I think the thing that I get most excited about is the fact that I know I'm gonna have a great match. That's when I get the butterflies. When it's just a regular match or something like that, I may not get that.\",\n",
       "  'author': {'id': '6153b7d49e8e5ae3eb2306a3', 'name': 'A.J. Styles'}},\n",
       " {'id': '6153bbd19e8e5ae3eb2984e4',\n",
       "  'text': \"Who would have ever thought that, within a couple months of getting into the WWE, that I'd be wrestling in the main event for the world championship? Then, nine months after getting here, actually being the world champion.\",\n",
       "  'author': {'id': '6153b7d49e8e5ae3eb2306a3', 'name': 'A.J. Styles'}},\n",
       " {'id': '6153bbd79e8e5ae3eb2aab6e',\n",
       "  'text': \"There's a couple guys that I'd like to wrestle, but truthfully, I want to wrestle as many guys as I can.\",\n",
       "  'author': {'id': '6153b7d49e8e5ae3eb2306a3', 'name': 'A.J. Styles'}},\n",
       " {'id': '6153bbd99e8e5ae3eb2aff6f',\n",
       "  'text': \"Shinsuke Nakamura is probably one of the best wrestlers I've ever been in the ring with. He's very unorthodox. Everything he does is with knockout power. He's a guy who is very flamboyant, so don't let his Michael Jackson antics fool you. This guy is deadly.\",\n",
       "  'author': {'id': '6153b7d49e8e5ae3eb2306a3', 'name': 'A.J. Styles'}},\n",
       " {'id': '6153bbd99e8e5ae3eb2b18dc',\n",
       "  'text': \"That's the great thing with the WWE. They want you to be like John Cena, they want you to be like The Rock, and they definitely give you that platform.\",\n",
       "  'author': {'id': '6153b7d49e8e5ae3eb2306a3', 'name': 'A.J. Styles'}},\n",
       " {'id': '6153bbdc9e8e5ae3eb2ba63a',\n",
       "  'text': \"Everything I do, I want to be A.J. Styles. When you see a guy come out with dry, long hair, I want you to be like, 'Hey, that reminds me of A.J. Styles.' That's what I want.\",\n",
       "  'author': {'id': '6153b7d49e8e5ae3eb2306a3', 'name': 'A.J. Styles'}},\n",
       " {'id': '6153bbe29e8e5ae3eb2cada0',\n",
       "  'text': \"You're only as old as you feel, and I feel pretty young. I've got one gear, and till it gets reversed, I'm going all out.\",\n",
       "  'author': {'id': '6153b7d49e8e5ae3eb2306a3', 'name': 'A.J. Styles'}},\n",
       " {'id': '6153bbe29e8e5ae3eb2cbbd1',\n",
       "  'text': \"I'm not trying to be something that I'm not, and I think a lot of people can relate to that. They want something that's real, and I think I give that to them.\",\n",
       "  'author': {'id': '6153b7d49e8e5ae3eb2306a3', 'name': 'A.J. Styles'}},\n",
       " {'id': '6153bbe69e8e5ae3eb2d66a3',\n",
       "  'text': 'Wrestling in Japan, obviously, the fans are a little bit different - very quiet, very respectful in New Japan - but here in the WWE, these fans are going nuts.',\n",
       "  'author': {'id': '6153b7d49e8e5ae3eb2306a3', 'name': 'A.J. Styles'}},\n",
       " {'id': '6153bbe89e8e5ae3eb2db6cd',\n",
       "  'text': \"I always say when it comes to dream matches, that is not up to me: that's up to the WWE Universe. That's up to the fans. But there is a guy on 'SmackDown' that I have yet to wrestle yet that's certainly gonna happen at some point, and that's Randy Orton.\",\n",
       "  'author': {'id': '6153b7d49e8e5ae3eb2306a3', 'name': 'A.J. Styles'}},\n",
       " {'id': '6153bbec9e8e5ae3eb2e3cb3',\n",
       "  'text': \"The WWE is based on, I think, reaction. You know, if you can't get a reaction, that means you can't put butts in the seats.\",\n",
       "  'author': {'id': '6153b7d49e8e5ae3eb2306a3', 'name': 'A.J. Styles'}}]"
      ]
     },
     "execution_count": 6,
     "metadata": {},
     "output_type": "execute_result"
    }
   ],
   "source": [
    "def get_author_quotes(language_id, author_id):\n",
    "    response = requests.get(f\"{BASE_URL}/authors/{language_id}/{author_id}/quotes\")\n",
    "    quotes = response.json()\n",
    "    return quotes\n",
    "\n",
    "# Fetch quotes by a specific author\n",
    "author_quotes = get_author_quotes(author_language, author_id)\n",
    "author_quotes\n"
   ]
  },
  {
   "cell_type": "code",
   "execution_count": 7,
   "metadata": {},
   "outputs": [
    {
     "name": "stdout",
     "output_type": "stream",
     "text": [
      "b'{\"message\":\"Unauthorized\",\"_links\":{\"self\":{\"href\":\"/v1/likes/en\",\"templated\":false}},\"_embedded\":{\"errors\":[{\"message\":\"Unauthorized\"}]}}'\n",
      "Failed to like the quote. Status code: 401, Response: {\"message\":\"Unauthorized\",\"_links\":{\"self\":{\"href\":\"/v1/likes/en\",\"templated\":false}},\"_embedded\":{\"errors\":[{\"message\":\"Unauthorized\"}]}}\n",
      "Quote liked: None\n"
     ]
    }
   ],
   "source": [
    "def like_quote(language_id, quote_id):\n",
    "    payload = {\n",
    "        \"likeQuote\": {\n",
    "            \"quote-id\": quote_id\n",
    "        }\n",
    "    }\n",
    "    \n",
    "    # Send POST request with JSON payload\n",
    "    response = requests.post(f\"{BASE_URL}/likes/{language_id}\", json=payload)\n",
    "    print(response.content)\n",
    "    \n",
    "    # Check if the request was successful\n",
    "    if response.status_code == 200:\n",
    "        print(\"Quote liked successfully!\")\n",
    "    else:\n",
    "        print(f\"Failed to like the quote. Status code: {response.status_code}, Response: {response.text}\")\n",
    "\n",
    "# Like a specific quote\n",
    "quoteId = \"6153bbb29e8e5ae3eb23a4f4\"\n",
    "is_liked = like_quote(\"en\", quoteId)\n",
    "print(f\"Quote liked: {is_liked}\")\n"
   ]
  },
  {
   "cell_type": "code",
   "execution_count": null,
   "metadata": {},
   "outputs": [],
   "source": []
  },
  {
   "cell_type": "code",
   "execution_count": null,
   "metadata": {},
   "outputs": [],
   "source": []
  }
 ],
 "metadata": {
  "kernelspec": {
   "display_name": "Python 3",
   "language": "python",
   "name": "python3"
  },
  "language_info": {
   "codemirror_mode": {
    "name": "ipython",
    "version": 3
   },
   "file_extension": ".py",
   "mimetype": "text/x-python",
   "name": "python",
   "nbconvert_exporter": "python",
   "pygments_lexer": "ipython3",
   "version": "3.10.11"
  }
 },
 "nbformat": 4,
 "nbformat_minor": 2
}
